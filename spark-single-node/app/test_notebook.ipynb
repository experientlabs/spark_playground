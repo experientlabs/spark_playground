{
 "cells": [
  {
   "cell_type": "code",
   "execution_count": 1,
   "id": "5473d4f6",
   "metadata": {},
   "outputs": [
    {
     "data": {
      "text/plain": [
       "'/home/sam/app'"
      ]
     },
     "execution_count": 1,
     "metadata": {},
     "output_type": "execute_result"
    }
   ],
   "source": [
    "pwd"
   ]
  },
  {
   "cell_type": "code",
   "execution_count": 2,
   "id": "4e944e39",
   "metadata": {},
   "outputs": [
    {
     "name": "stdout",
     "output_type": "stream",
     "text": [
      "Hello Python\n"
     ]
    }
   ],
   "source": [
    "print(\"Hello Python\")"
   ]
  },
  {
   "cell_type": "code",
   "execution_count": 3,
   "id": "d87118e0",
   "metadata": {},
   "outputs": [],
   "source": [
    "a = 5\n",
    "b = 7"
   ]
  },
  {
   "cell_type": "code",
   "execution_count": 4,
   "id": "f0d42165",
   "metadata": {},
   "outputs": [],
   "source": [
    "c = a + b"
   ]
  },
  {
   "cell_type": "code",
   "execution_count": 5,
   "id": "7900fcb2",
   "metadata": {},
   "outputs": [
    {
     "name": "stdout",
     "output_type": "stream",
     "text": [
      "12\n"
     ]
    }
   ],
   "source": [
    "print(c)"
   ]
  },
  {
   "cell_type": "code",
   "execution_count": 6,
   "id": "1e96d546",
   "metadata": {},
   "outputs": [],
   "source": [
    "import findspark\n",
    "findspark.init()"
   ]
  },
  {
   "cell_type": "code",
   "execution_count": 7,
   "id": "e7b29bbd",
   "metadata": {},
   "outputs": [],
   "source": [
    "import pyspark\n",
    "from pyspark.sql import SparkSession"
   ]
  },
  {
   "cell_type": "code",
   "execution_count": 8,
   "id": "484feec6",
   "metadata": {},
   "outputs": [
    {
     "name": "stderr",
     "output_type": "stream",
     "text": [
      "WARNING: An illegal reflective access operation has occurred\n",
      "WARNING: Illegal reflective access by org.apache.spark.unsafe.Platform (file:/home/spark/jars/spark-unsafe_2.12-3.2.4.jar) to constructor java.nio.DirectByteBuffer(long,int)\n",
      "WARNING: Please consider reporting this to the maintainers of org.apache.spark.unsafe.Platform\n",
      "WARNING: Use --illegal-access=warn to enable warnings of further illegal reflective access operations\n",
      "WARNING: All illegal access operations will be denied in a future release\n",
      "Using Spark's default log4j profile: org/apache/spark/log4j-defaults.properties\n",
      "Setting default log level to \"WARN\".\n",
      "To adjust logging level use sc.setLogLevel(newLevel). For SparkR, use setLogLevel(newLevel).\n",
      "23/11/28 15:53:15 WARN NativeCodeLoader: Unable to load native-hadoop library for your platform... using builtin-java classes where applicable\n"
     ]
    }
   ],
   "source": [
    "spark = SparkSession.builder.appName(\"SparkSample\").getOrCreate()"
   ]
  },
  {
   "cell_type": "code",
   "execution_count": 9,
   "id": "4b51b7b1",
   "metadata": {},
   "outputs": [
    {
     "data": {
      "text/plain": [
       "'/home/sam/app'"
      ]
     },
     "execution_count": 9,
     "metadata": {},
     "output_type": "execute_result"
    }
   ],
   "source": [
    "pwd"
   ]
  },
  {
   "cell_type": "code",
   "execution_count": 10,
   "id": "d2828437",
   "metadata": {},
   "outputs": [],
   "source": [
    "textfile_df = spark.read.text(\"textfile.txt\")"
   ]
  },
  {
   "cell_type": "code",
   "execution_count": 11,
   "id": "325ac351",
   "metadata": {},
   "outputs": [
    {
     "name": "stdout",
     "output_type": "stream",
     "text": [
      "+--------------------+\n",
      "|               value|\n",
      "+--------------------+\n",
      "|Lorem ipsum dolor...|\n",
      "|Mauris dictum, ma...|\n",
      "|Duis lacinia ex v...|\n",
      "|Nam a sodales ex,...|\n",
      "|Nulla sit amet sa...|\n",
      "|Integer ut velit ...|\n",
      "|Cras cursus congu...|\n",
      "|Proin maximus fac...|\n",
      "|Vestibulum nec ri...|\n",
      "|Suspendisse vulpu...|\n",
      "|Curabitur malesua...|\n",
      "|Vivamus placerat ...|\n",
      "|Donec vel neque e...|\n",
      "|Lorem ipsum dolor...|\n",
      "|Integer pretium l...|\n",
      "+--------------------+\n",
      "\n"
     ]
    },
    {
     "name": "stderr",
     "output_type": "stream",
     "text": [
      "                                                                                \r"
     ]
    }
   ],
   "source": [
    "textfile_df.show()"
   ]
  },
  {
   "cell_type": "code",
   "execution_count": 12,
   "id": "b93087e4-81e5-4796-8475-8fce2613036e",
   "metadata": {},
   "outputs": [
    {
     "name": "stdout",
     "output_type": "stream",
     "text": [
      "+--------------------+\n",
      "|               value|\n",
      "+--------------------+\n",
      "|Lorem ipsum dolor...|\n",
      "|Mauris dictum, ma...|\n",
      "|Duis lacinia ex v...|\n",
      "|Nam a sodales ex,...|\n",
      "|Nulla sit amet sa...|\n",
      "|Integer ut velit ...|\n",
      "|Cras cursus congu...|\n",
      "|Proin maximus fac...|\n",
      "|Vestibulum nec ri...|\n",
      "|Suspendisse vulpu...|\n",
      "|Curabitur malesua...|\n",
      "|Vivamus placerat ...|\n",
      "|Donec vel neque e...|\n",
      "|Lorem ipsum dolor...|\n",
      "|Integer pretium l...|\n",
      "+--------------------+\n",
      "\n",
      "+--------------------+---------+\n",
      "|               value|wordCount|\n",
      "+--------------------+---------+\n",
      "|Lorem ipsum dolor...|       77|\n",
      "|Mauris dictum, ma...|       70|\n",
      "|Duis lacinia ex v...|       63|\n",
      "|Nam a sodales ex,...|       96|\n",
      "|Nulla sit amet sa...|       80|\n",
      "|Integer ut velit ...|      100|\n",
      "|Cras cursus congu...|       91|\n",
      "|Proin maximus fac...|       44|\n",
      "|Vestibulum nec ri...|       65|\n",
      "|Suspendisse vulpu...|      105|\n",
      "|Curabitur malesua...|      143|\n",
      "|Vivamus placerat ...|       94|\n",
      "|Donec vel neque e...|       70|\n",
      "|Lorem ipsum dolor...|      114|\n",
      "|Integer pretium l...|       90|\n",
      "+--------------------+---------+\n",
      "\n",
      "+---------+-----+\n",
      "|     word|count|\n",
      "+---------+-----+\n",
      "|      sit|   25|\n",
      "|     eget|   24|\n",
      "|       ut|   22|\n",
      "|       et|   21|\n",
      "|       ac|   20|\n",
      "|       at|   19|\n",
      "|       eu|   19|\n",
      "|     amet|   18|\n",
      "|       in|   15|\n",
      "|     quis|   15|\n",
      "|        a|   14|\n",
      "|      nec|   14|\n",
      "|    Donec|   14|\n",
      "|    ipsum|   13|\n",
      "|      non|   12|\n",
      "|   sapien|   12|\n",
      "|       id|   12|\n",
      "|tincidunt|   11|\n",
      "|malesuada|   11|\n",
      "|      vel|   11|\n",
      "+---------+-----+\n",
      "only showing top 20 rows\n",
      "\n"
     ]
    }
   ],
   "source": [
    "import pyspark.sql.functions as f\n",
    "\n",
    "# read text file\n",
    "df_text_file = spark.read.text(\"textfile.txt\")\n",
    "df_text_file.show()\n",
    "\n",
    "df_total_words = df_text_file.withColumn('wordCount', f.size(f.split(f.col('value'), ' ')))\n",
    "df_total_words.show()\n",
    "\n",
    "# Word count example\n",
    "df_word_count = df_text_file.withColumn('word', f.explode(f.split(f.col('value'), ' '))).groupBy('word').count().sort('count', ascending=False)\n",
    "df_word_count.show()"
   ]
  },
  {
   "cell_type": "code",
   "execution_count": 13,
   "id": "0af2ea86-f33d-4d0f-a274-5c7c32ea0bcd",
   "metadata": {},
   "outputs": [],
   "source": [
    "# spark.stop()"
   ]
  },
  {
   "cell_type": "code",
   "execution_count": 14,
   "id": "b2f7e390-3e79-445b-8d3c-0aabee066126",
   "metadata": {},
   "outputs": [
    {
     "name": "stdout",
     "output_type": "stream",
     "text": [
      "+---------+-----+\n",
      "|     word|count|\n",
      "+---------+-----+\n",
      "|      sit|   25|\n",
      "|     eget|   24|\n",
      "|       ut|   22|\n",
      "|       et|   21|\n",
      "|       ac|   20|\n",
      "|       at|   19|\n",
      "|       eu|   19|\n",
      "|     amet|   18|\n",
      "|       in|   15|\n",
      "|     quis|   15|\n",
      "|        a|   14|\n",
      "|      nec|   14|\n",
      "|    Donec|   14|\n",
      "|    ipsum|   13|\n",
      "|      non|   12|\n",
      "|   sapien|   12|\n",
      "|       id|   12|\n",
      "|tincidunt|   11|\n",
      "|malesuada|   11|\n",
      "|      vel|   11|\n",
      "+---------+-----+\n",
      "only showing top 20 rows\n",
      "\n"
     ]
    }
   ],
   "source": [
    "df_word_count.show()"
   ]
  },
  {
   "cell_type": "code",
   "execution_count": null,
   "id": "50033319-89f1-4d3f-85d9-eb952e39f937",
   "metadata": {},
   "outputs": [],
   "source": []
  }
 ],
 "metadata": {
  "kernelspec": {
   "display_name": "Python 3 (ipykernel)",
   "language": "python",
   "name": "python3"
  },
  "language_info": {
   "codemirror_mode": {
    "name": "ipython",
    "version": 3
   },
   "file_extension": ".py",
   "mimetype": "text/x-python",
   "name": "python",
   "nbconvert_exporter": "python",
   "pygments_lexer": "ipython3",
   "version": "3.10.9"
  }
 },
 "nbformat": 4,
 "nbformat_minor": 5
}
